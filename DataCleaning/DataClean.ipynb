{
 "cells": [
  {
   "cell_type": "code",
   "execution_count": 1,
   "metadata": {},
   "outputs": [],
   "source": [
    "import pandas as pd\n",
    "import numpy as np"
   ]
  },
  {
   "cell_type": "code",
   "execution_count": 2,
   "metadata": {},
   "outputs": [],
   "source": [
    "col_names = ['symptom','disease']\n",
    "dataset = pd.read_csv(\"../Dataset/one-one_data.csv\")\n",
    "extra_dataset = pd.read_csv('../Dataset/few_more.csv',encoding=\"ISO-8859-1\",names=col_names)"
   ]
  },
  {
   "cell_type": "code",
   "execution_count": 3,
   "metadata": {},
   "outputs": [],
   "source": [
    "#Function to remove non ascii characters\n",
    "def remove_non_ascii(text):\n",
    "    return ''.join(i for i in text if ord(i)<128)\n",
    "extra_dataset['symptom'] = extra_dataset['symptom'].apply(remove_non_ascii)\n",
    "extra_dataset['disease'] = extra_dataset['disease'].apply(remove_non_ascii)"
   ]
  },
  {
   "cell_type": "code",
   "execution_count": 4,
   "metadata": {},
   "outputs": [],
   "source": [
    "#after removing ascii chars we can work on the dataset\n",
    "#mergin dataset with current datasket\n",
    "merge_dataset = pd.concat([dataset,extra_dataset])"
   ]
  },
  {
   "cell_type": "code",
   "execution_count": 5,
   "metadata": {},
   "outputs": [],
   "source": [
    "def makeDataset(dataset):\n",
    "    combined_disease = dataset.groupby(['disease'])\n",
    "    diseaseList = []\n",
    "    symptomList = []\n",
    "    for i in combined_disease:\n",
    "        diseaseList.append(i[0])\n",
    "        symptomList.append(i[1]['symptom'].values.tolist())\n",
    "    new_data = {'disease':diseaseList,'symptom':symptomList}\n",
    "    new_dataset = pd.DataFrame(new_data)\n",
    "    return new_dataset"
   ]
  },
  {
   "cell_type": "code",
   "execution_count": 6,
   "metadata": {},
   "outputs": [],
   "source": [
    "new_m_dataset = makeDataset(merge_dataset)"
   ]
  },
  {
   "cell_type": "code",
   "execution_count": 7,
   "metadata": {},
   "outputs": [
    {
     "data": {
      "text/html": [
       "<div>\n",
       "<style scoped>\n",
       "    .dataframe tbody tr th:only-of-type {\n",
       "        vertical-align: middle;\n",
       "    }\n",
       "\n",
       "    .dataframe tbody tr th {\n",
       "        vertical-align: top;\n",
       "    }\n",
       "\n",
       "    .dataframe thead th {\n",
       "        text-align: right;\n",
       "    }\n",
       "</style>\n",
       "<table border=\"1\" class=\"dataframe\">\n",
       "  <thead>\n",
       "    <tr style=\"text-align: right;\">\n",
       "      <th></th>\n",
       "      <th>disease</th>\n",
       "      <th>symptom</th>\n",
       "    </tr>\n",
       "  </thead>\n",
       "  <tbody>\n",
       "    <tr>\n",
       "      <th>0</th>\n",
       "      <td>Achalasia</td>\n",
       "      <td>[Burning pain in chest or upper abdomen, Diffi...</td>\n",
       "    </tr>\n",
       "    <tr>\n",
       "      <th>1</th>\n",
       "      <td>Acid reflux</td>\n",
       "      <td>[Abdominal pain after eating, Burning pain in ...</td>\n",
       "    </tr>\n",
       "    <tr>\n",
       "      <th>2</th>\n",
       "      <td>Acoustic neuroma</td>\n",
       "      <td>[Hearing loss in one ear, Noises in ear, Sensa...</td>\n",
       "    </tr>\n",
       "    <tr>\n",
       "      <th>3</th>\n",
       "      <td>Acute cholecystitis</td>\n",
       "      <td>[Abdominal pain spreading to shoulder blade, A...</td>\n",
       "    </tr>\n",
       "    <tr>\n",
       "      <th>4</th>\n",
       "      <td>Acute exacerbation of COPD</td>\n",
       "      <td>[Cough which produces mucus, Fast or shallow b...</td>\n",
       "    </tr>\n",
       "  </tbody>\n",
       "</table>\n",
       "</div>"
      ],
      "text/plain": [
       "                      disease  \\\n",
       "0                   Achalasia   \n",
       "1                 Acid reflux   \n",
       "2            Acoustic neuroma   \n",
       "3         Acute cholecystitis   \n",
       "4  Acute exacerbation of COPD   \n",
       "\n",
       "                                             symptom  \n",
       "0  [Burning pain in chest or upper abdomen, Diffi...  \n",
       "1  [Abdominal pain after eating, Burning pain in ...  \n",
       "2  [Hearing loss in one ear, Noises in ear, Sensa...  \n",
       "3  [Abdominal pain spreading to shoulder blade, A...  \n",
       "4  [Cough which produces mucus, Fast or shallow b...  "
      ]
     },
     "execution_count": 7,
     "metadata": {},
     "output_type": "execute_result"
    }
   ],
   "source": [
    "new_m_dataset.head()"
   ]
  },
  {
   "cell_type": "code",
   "execution_count": 8,
   "metadata": {},
   "outputs": [],
   "source": [
    "new_m_dataset.to_csv('../Dataset/dataset_more.csv',index=False)"
   ]
  }
 ],
 "metadata": {
  "kernelspec": {
   "display_name": "Python 3",
   "language": "python",
   "name": "python3"
  },
  "language_info": {
   "codemirror_mode": {
    "name": "ipython",
    "version": 3
   },
   "file_extension": ".py",
   "mimetype": "text/x-python",
   "name": "python",
   "nbconvert_exporter": "python",
   "pygments_lexer": "ipython3",
   "version": "3.6.8"
  }
 },
 "nbformat": 4,
 "nbformat_minor": 2
}
